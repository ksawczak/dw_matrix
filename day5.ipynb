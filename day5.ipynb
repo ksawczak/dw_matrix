{
  "nbformat": 4,
  "nbformat_minor": 0,
  "metadata": {
    "colab": {
      "name": "day5.ipynb",
      "provenance": [],
      "toc_visible": true,
      "mount_file_id": "1OSYJQu6SsjGv2wkXPZrFK88TUcQ_28Q0",
      "authorship_tag": "ABX9TyNLbVHPcuUHubOEE3JMfwzi",
      "include_colab_link": true
    },
    "kernelspec": {
      "name": "python3",
      "display_name": "Python 3"
    }
  },
  "cells": [
    {
      "cell_type": "markdown",
      "metadata": {
        "id": "view-in-github",
        "colab_type": "text"
      },
      "source": [
        "<a href=\"https://colab.research.google.com/github/ksawczak/dw_matrix/blob/master/day5.ipynb\" target=\"_parent\"><img src=\"https://colab.research.google.com/assets/colab-badge.svg\" alt=\"Open In Colab\"/></a>"
      ]
    },
    {
      "cell_type": "code",
      "metadata": {
        "id": "R4kR6GIDLwKO",
        "colab_type": "code",
        "colab": {
          "base_uri": "https://localhost:8080/",
          "height": 292
        },
        "outputId": "658a24a5-ba7c-400e-80d6-027ead45e734"
      },
      "source": [
        "!pip install eli5"
      ],
      "execution_count": 1,
      "outputs": [
        {
          "output_type": "stream",
          "text": [
            "Collecting eli5\n",
            "\u001b[?25l  Downloading https://files.pythonhosted.org/packages/97/2f/c85c7d8f8548e460829971785347e14e45fa5c6617da374711dec8cb38cc/eli5-0.10.1-py2.py3-none-any.whl (105kB)\n",
            "\r\u001b[K     |███                             | 10kB 16.0MB/s eta 0:00:01\r\u001b[K     |██████▏                         | 20kB 1.5MB/s eta 0:00:01\r\u001b[K     |█████████▎                      | 30kB 1.8MB/s eta 0:00:01\r\u001b[K     |████████████▍                   | 40kB 1.5MB/s eta 0:00:01\r\u001b[K     |███████████████▌                | 51kB 1.7MB/s eta 0:00:01\r\u001b[K     |██████████████████▋             | 61kB 2.0MB/s eta 0:00:01\r\u001b[K     |█████████████████████▊          | 71kB 2.2MB/s eta 0:00:01\r\u001b[K     |████████████████████████▊       | 81kB 2.1MB/s eta 0:00:01\r\u001b[K     |███████████████████████████▉    | 92kB 2.3MB/s eta 0:00:01\r\u001b[K     |███████████████████████████████ | 102kB 2.5MB/s eta 0:00:01\r\u001b[K     |████████████████████████████████| 112kB 2.5MB/s \n",
            "\u001b[?25hRequirement already satisfied: scipy in /usr/local/lib/python3.6/dist-packages (from eli5) (1.4.1)\n",
            "Requirement already satisfied: six in /usr/local/lib/python3.6/dist-packages (from eli5) (1.12.0)\n",
            "Requirement already satisfied: tabulate>=0.7.7 in /usr/local/lib/python3.6/dist-packages (from eli5) (0.8.6)\n",
            "Requirement already satisfied: numpy>=1.9.0 in /usr/local/lib/python3.6/dist-packages (from eli5) (1.17.5)\n",
            "Requirement already satisfied: scikit-learn>=0.18 in /usr/local/lib/python3.6/dist-packages (from eli5) (0.22.1)\n",
            "Requirement already satisfied: jinja2 in /usr/local/lib/python3.6/dist-packages (from eli5) (2.11.1)\n",
            "Requirement already satisfied: graphviz in /usr/local/lib/python3.6/dist-packages (from eli5) (0.10.1)\n",
            "Requirement already satisfied: attrs>16.0.0 in /usr/local/lib/python3.6/dist-packages (from eli5) (19.3.0)\n",
            "Requirement already satisfied: joblib>=0.11 in /usr/local/lib/python3.6/dist-packages (from scikit-learn>=0.18->eli5) (0.14.1)\n",
            "Requirement already satisfied: MarkupSafe>=0.23 in /usr/local/lib/python3.6/dist-packages (from jinja2->eli5) (1.1.1)\n",
            "Installing collected packages: eli5\n",
            "Successfully installed eli5-0.10.1\n"
          ],
          "name": "stdout"
        }
      ]
    },
    {
      "cell_type": "code",
      "metadata": {
        "id": "w86hYHwkMLGR",
        "colab_type": "code",
        "colab": {}
      },
      "source": [
        "import pandas as pd\n",
        "import numpy as np\n",
        "from sklearn.tree import DecisionTreeRegressor\n",
        "from sklearn.ensemble import RandomForestRegressor\n",
        "\n",
        "from sklearn.metrics import mean_absolute_error\n",
        "from sklearn.model_selection import cross_val_score\n",
        "\n",
        "import eli5\n",
        "from eli5.sklearn import PermutationImportance\n",
        "\n",
        "from ast import literal_eval\n",
        "from tqdm import tqdm_notebook"
      ],
      "execution_count": 0,
      "outputs": []
    },
    {
      "cell_type": "code",
      "metadata": {
        "id": "Uc_nT022NH1P",
        "colab_type": "code",
        "colab": {
          "base_uri": "https://localhost:8080/",
          "height": 34
        },
        "outputId": "4daf1198-6306-4dc7-f69c-2d615a0594cd"
      },
      "source": [
        "cd \"/content/drive/My Drive/Colab Notebooks/dw_matrix\""
      ],
      "execution_count": 5,
      "outputs": [
        {
          "output_type": "stream",
          "text": [
            "/content/drive/My Drive/Colab Notebooks/dw_matrix\n"
          ],
          "name": "stdout"
        }
      ]
    },
    {
      "cell_type": "code",
      "metadata": {
        "id": "kwb-st4yNSiT",
        "colab_type": "code",
        "colab": {}
      },
      "source": [
        "df = pd.read_csv('data/shoes_prices.csv', low_memory=False)\n",
        "df_usd = df[df.prices_currency == 'USD'].copy()\n",
        "df_usd['prices_amountmin'] = df_usd.prices_amountmin.astype(np.float)\n",
        "filter_max = np.percentile(df_usd['prices_amountmin'],99)\n",
        "df_usd_filter = df_usd[df_usd['prices_amountmin']<filter_max]"
      ],
      "execution_count": 0,
      "outputs": []
    },
    {
      "cell_type": "code",
      "metadata": {
        "id": "ivJfw2HRQyKy",
        "colab_type": "code",
        "colab": {
          "base_uri": "https://localhost:8080/",
          "height": 34
        },
        "outputId": "209cc25c-040f-47b4-af88-a2038a58582b"
      },
      "source": [
        "df = df_usd_filter\n",
        "df.shape"
      ],
      "execution_count": 11,
      "outputs": [
        {
          "output_type": "execute_result",
          "data": {
            "text/plain": [
              "(18280, 48)"
            ]
          },
          "metadata": {
            "tags": []
          },
          "execution_count": 11
        }
      ]
    },
    {
      "cell_type": "code",
      "metadata": {
        "id": "_nZQId5QNddG",
        "colab_type": "code",
        "colab": {}
      },
      "source": [
        "df.to_csv('data/shoes_prices.csv', index=False)"
      ],
      "execution_count": 0,
      "outputs": []
    },
    {
      "cell_type": "code",
      "metadata": {
        "id": "NJM0ABs4RfnL",
        "colab_type": "code",
        "colab": {}
      },
      "source": [
        "def run_model (feats, model = DecisionTreeRegressor(max_depth=5)):\n",
        "  X = df[feats].values\n",
        "  y = df['prices_amountmin'].values\n",
        "\n",
        "  scores = cross_val_score(model, X, y, scoring='neg_mean_absolute_error')\n",
        "  return np.mean(scores), np.std(scores)"
      ],
      "execution_count": 0,
      "outputs": []
    },
    {
      "cell_type": "code",
      "metadata": {
        "id": "QhtYBRBBSgx4",
        "colab_type": "code",
        "colab": {
          "base_uri": "https://localhost:8080/",
          "height": 156
        },
        "outputId": "488222ba-6d3e-4541-eb52-fb2ba2b2f27a"
      },
      "source": [
        "df['brand_cat'] = df['brand'].map(lambda x: str(x).lower()).factorize()[0]\n",
        "run_model(['brand_cat'])"
      ],
      "execution_count": 18,
      "outputs": [
        {
          "output_type": "stream",
          "text": [
            "/usr/local/lib/python3.6/dist-packages/ipykernel_launcher.py:1: SettingWithCopyWarning: \n",
            "A value is trying to be set on a copy of a slice from a DataFrame.\n",
            "Try using .loc[row_indexer,col_indexer] = value instead\n",
            "\n",
            "See the caveats in the documentation: http://pandas.pydata.org/pandas-docs/stable/user_guide/indexing.html#returning-a-view-versus-a-copy\n",
            "  \"\"\"Entry point for launching an IPython kernel.\n"
          ],
          "name": "stderr"
        },
        {
          "output_type": "execute_result",
          "data": {
            "text/plain": [
              "(-58.133398968282776, 4.206122611474276)"
            ]
          },
          "metadata": {
            "tags": []
          },
          "execution_count": 18
        }
      ]
    },
    {
      "cell_type": "code",
      "metadata": {
        "id": "4mzv7wNQTJ2K",
        "colab_type": "code",
        "colab": {
          "base_uri": "https://localhost:8080/",
          "height": 34
        },
        "outputId": "fc4d44f2-35dd-4add-8cf9-f48c87e59166"
      },
      "source": [
        "model = RandomForestRegressor(max_depth=5, n_estimators=100, random_state=0)\n",
        "run_model(['brand_cat'],model)"
      ],
      "execution_count": 20,
      "outputs": [
        {
          "output_type": "execute_result",
          "data": {
            "text/plain": [
              "(-57.31783843165656, 4.181246596160967)"
            ]
          },
          "metadata": {
            "tags": []
          },
          "execution_count": 20
        }
      ]
    },
    {
      "cell_type": "code",
      "metadata": {
        "id": "nvjXLVRwTp1p",
        "colab_type": "code",
        "colab": {
          "base_uri": "https://localhost:8080/",
          "height": 221
        },
        "outputId": "0204433b-270e-4269-e098-b89b85e4f147"
      },
      "source": [
        "df.features"
      ],
      "execution_count": 21,
      "outputs": [
        {
          "output_type": "execute_result",
          "data": {
            "text/plain": [
              "0        [{\"key\":\"Gender\",\"value\":[\"Men\"]},{\"key\":\"Shoe...\n",
              "1        [{\"key\":\"Gender\",\"value\":[\"Men\"]},{\"key\":\"Shoe...\n",
              "2        [{\"key\":\"Gender\",\"value\":[\"Men\"]},{\"key\":\"Colo...\n",
              "3        [{\"key\":\"Gender\",\"value\":[\"Men\"]},{\"key\":\"Colo...\n",
              "4        [{\"key\":\"Gender\",\"value\":[\"Men\"]},{\"key\":\"Colo...\n",
              "                               ...                        \n",
              "19382    [{\"key\":\"Style\",\"value\":[\"Desert Boots\"]},{\"ke...\n",
              "19383    [{\"key\":\"Shoe Size\",\"value\":[\"9.5\"]},{\"key\":\"G...\n",
              "19384    [{\"key\":\"Gender\",\"value\":[\"Unisex\"]},{\"key\":\"F...\n",
              "19385    [{\"key\":\"Gender\",\"value\":[\"Unisex\"]},{\"key\":\"F...\n",
              "19386    [{\"key\":\"Gender\",\"value\":[\"Unisex\"]},{\"key\":\"F...\n",
              "Name: features, Length: 18280, dtype: object"
            ]
          },
          "metadata": {
            "tags": []
          },
          "execution_count": 21
        }
      ]
    },
    {
      "cell_type": "markdown",
      "metadata": {
        "id": "9twUiIBInJmT",
        "colab_type": "text"
      },
      "source": [
        "Start here"
      ]
    },
    {
      "cell_type": "code",
      "metadata": {
        "id": "YZfBuGWuV-Ds",
        "colab_type": "code",
        "colab": {
          "base_uri": "https://localhost:8080/",
          "height": 139
        },
        "outputId": "d967b85e-5188-4025-89a6-949bf3a2be9d"
      },
      "source": [
        "def parse_features(x):\n",
        "  output_dict = {}\n",
        "  if str(x) == 'nan': return output_dict\n",
        "\n",
        "\n",
        "  features = literal_eval(x.replace('\\\\\"', '\"'))\n",
        "  for item in features:\n",
        "    key = item['key'].lower().strip()\n",
        "    value = item ['value'][0].lower().strip()\n",
        "\n",
        "    output_dict[key] = value\n",
        "\n",
        "    return output_dict\n",
        "\n",
        "df ['features_parsed'] = df['features'].map(parse_features)"
      ],
      "execution_count": 33,
      "outputs": [
        {
          "output_type": "stream",
          "text": [
            "/usr/local/lib/python3.6/dist-packages/ipykernel_launcher.py:15: SettingWithCopyWarning: \n",
            "A value is trying to be set on a copy of a slice from a DataFrame.\n",
            "Try using .loc[row_indexer,col_indexer] = value instead\n",
            "\n",
            "See the caveats in the documentation: http://pandas.pydata.org/pandas-docs/stable/user_guide/indexing.html#returning-a-view-versus-a-copy\n",
            "  from ipykernel import kernelapp as app\n"
          ],
          "name": "stderr"
        }
      ]
    },
    {
      "cell_type": "code",
      "metadata": {
        "id": "UFunnFLwXISC",
        "colab_type": "code",
        "colab": {
          "base_uri": "https://localhost:8080/",
          "height": 51
        },
        "outputId": "67e0db22-fe86-4121-b12c-2b0d28be4d78"
      },
      "source": [
        "df['features_parsed'].head().values"
      ],
      "execution_count": 34,
      "outputs": [
        {
          "output_type": "execute_result",
          "data": {
            "text/plain": [
              "array([{'gender': 'men'}, {'gender': 'men'}, {'gender': 'men'},\n",
              "       {'gender': 'men'}, {'gender': 'men'}], dtype=object)"
            ]
          },
          "metadata": {
            "tags": []
          },
          "execution_count": 34
        }
      ]
    }
  ]
}