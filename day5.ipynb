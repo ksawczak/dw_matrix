{
  "nbformat": 4,
  "nbformat_minor": 0,
  "metadata": {
    "colab": {
      "name": "day5.ipynb",
      "provenance": [],
      "toc_visible": true,
      "mount_file_id": "1OSYJQu6SsjGv2wkXPZrFK88TUcQ_28Q0",
      "authorship_tag": "ABX9TyNGskAIFlz0gS8NYpzO+gNA",
      "include_colab_link": true
    },
    "kernelspec": {
      "name": "python3",
      "display_name": "Python 3"
    },
    "widgets": {
      "application/vnd.jupyter.widget-state+json": {
        "f08fa528011940ccaedcf432793efcb7": {
          "model_module": "@jupyter-widgets/controls",
          "model_name": "HBoxModel",
          "state": {
            "_view_name": "HBoxView",
            "_dom_classes": [],
            "_model_name": "HBoxModel",
            "_view_module": "@jupyter-widgets/controls",
            "_model_module_version": "1.5.0",
            "_view_count": null,
            "_view_module_version": "1.5.0",
            "box_style": "",
            "layout": "IPY_MODEL_b306d2163ae34aedbd0a289c1de08353",
            "_model_module": "@jupyter-widgets/controls",
            "children": [
              "IPY_MODEL_4f9503e1ea444e049ce0d6bc5985cdc2",
              "IPY_MODEL_a63b6c80bcc843b3a5ee36ddf6e60429"
            ]
          }
        },
        "b306d2163ae34aedbd0a289c1de08353": {
          "model_module": "@jupyter-widgets/base",
          "model_name": "LayoutModel",
          "state": {
            "_view_name": "LayoutView",
            "grid_template_rows": null,
            "right": null,
            "justify_content": null,
            "_view_module": "@jupyter-widgets/base",
            "overflow": null,
            "_model_module_version": "1.2.0",
            "_view_count": null,
            "flex_flow": null,
            "width": null,
            "min_width": null,
            "border": null,
            "align_items": null,
            "bottom": null,
            "_model_module": "@jupyter-widgets/base",
            "top": null,
            "grid_column": null,
            "overflow_y": null,
            "overflow_x": null,
            "grid_auto_flow": null,
            "grid_area": null,
            "grid_template_columns": null,
            "flex": null,
            "_model_name": "LayoutModel",
            "justify_items": null,
            "grid_row": null,
            "max_height": null,
            "align_content": null,
            "visibility": null,
            "align_self": null,
            "height": null,
            "min_height": null,
            "padding": null,
            "grid_auto_rows": null,
            "grid_gap": null,
            "max_width": null,
            "order": null,
            "_view_module_version": "1.2.0",
            "grid_template_areas": null,
            "object_position": null,
            "object_fit": null,
            "grid_auto_columns": null,
            "margin": null,
            "display": null,
            "left": null
          }
        },
        "4f9503e1ea444e049ce0d6bc5985cdc2": {
          "model_module": "@jupyter-widgets/controls",
          "model_name": "IntProgressModel",
          "state": {
            "_view_name": "ProgressView",
            "style": "IPY_MODEL_d4eece62729e4e5e937a68312a01cd88",
            "_dom_classes": [],
            "description": "",
            "_model_name": "IntProgressModel",
            "bar_style": "success",
            "max": 476,
            "_view_module": "@jupyter-widgets/controls",
            "_model_module_version": "1.5.0",
            "value": 476,
            "_view_count": null,
            "_view_module_version": "1.5.0",
            "orientation": "horizontal",
            "min": 0,
            "description_tooltip": null,
            "_model_module": "@jupyter-widgets/controls",
            "layout": "IPY_MODEL_3a47bf4334dc4a56b1c3a633b5611f82"
          }
        },
        "a63b6c80bcc843b3a5ee36ddf6e60429": {
          "model_module": "@jupyter-widgets/controls",
          "model_name": "HTMLModel",
          "state": {
            "_view_name": "HTMLView",
            "style": "IPY_MODEL_001c118d597d4cebaee2d9ade3837093",
            "_dom_classes": [],
            "description": "",
            "_model_name": "HTMLModel",
            "placeholder": "​",
            "_view_module": "@jupyter-widgets/controls",
            "_model_module_version": "1.5.0",
            "value": "100% 476/476 [00:04&lt;00:00, 114.09it/s]",
            "_view_count": null,
            "_view_module_version": "1.5.0",
            "description_tooltip": null,
            "_model_module": "@jupyter-widgets/controls",
            "layout": "IPY_MODEL_b42290f62b1b4deaab7dea7f29fc41c1"
          }
        },
        "d4eece62729e4e5e937a68312a01cd88": {
          "model_module": "@jupyter-widgets/controls",
          "model_name": "ProgressStyleModel",
          "state": {
            "_view_name": "StyleView",
            "_model_name": "ProgressStyleModel",
            "description_width": "",
            "_view_module": "@jupyter-widgets/base",
            "_model_module_version": "1.5.0",
            "_view_count": null,
            "_view_module_version": "1.2.0",
            "bar_color": null,
            "_model_module": "@jupyter-widgets/controls"
          }
        },
        "3a47bf4334dc4a56b1c3a633b5611f82": {
          "model_module": "@jupyter-widgets/base",
          "model_name": "LayoutModel",
          "state": {
            "_view_name": "LayoutView",
            "grid_template_rows": null,
            "right": null,
            "justify_content": null,
            "_view_module": "@jupyter-widgets/base",
            "overflow": null,
            "_model_module_version": "1.2.0",
            "_view_count": null,
            "flex_flow": null,
            "width": null,
            "min_width": null,
            "border": null,
            "align_items": null,
            "bottom": null,
            "_model_module": "@jupyter-widgets/base",
            "top": null,
            "grid_column": null,
            "overflow_y": null,
            "overflow_x": null,
            "grid_auto_flow": null,
            "grid_area": null,
            "grid_template_columns": null,
            "flex": null,
            "_model_name": "LayoutModel",
            "justify_items": null,
            "grid_row": null,
            "max_height": null,
            "align_content": null,
            "visibility": null,
            "align_self": null,
            "height": null,
            "min_height": null,
            "padding": null,
            "grid_auto_rows": null,
            "grid_gap": null,
            "max_width": null,
            "order": null,
            "_view_module_version": "1.2.0",
            "grid_template_areas": null,
            "object_position": null,
            "object_fit": null,
            "grid_auto_columns": null,
            "margin": null,
            "display": null,
            "left": null
          }
        },
        "001c118d597d4cebaee2d9ade3837093": {
          "model_module": "@jupyter-widgets/controls",
          "model_name": "DescriptionStyleModel",
          "state": {
            "_view_name": "StyleView",
            "_model_name": "DescriptionStyleModel",
            "description_width": "",
            "_view_module": "@jupyter-widgets/base",
            "_model_module_version": "1.5.0",
            "_view_count": null,
            "_view_module_version": "1.2.0",
            "_model_module": "@jupyter-widgets/controls"
          }
        },
        "b42290f62b1b4deaab7dea7f29fc41c1": {
          "model_module": "@jupyter-widgets/base",
          "model_name": "LayoutModel",
          "state": {
            "_view_name": "LayoutView",
            "grid_template_rows": null,
            "right": null,
            "justify_content": null,
            "_view_module": "@jupyter-widgets/base",
            "overflow": null,
            "_model_module_version": "1.2.0",
            "_view_count": null,
            "flex_flow": null,
            "width": null,
            "min_width": null,
            "border": null,
            "align_items": null,
            "bottom": null,
            "_model_module": "@jupyter-widgets/base",
            "top": null,
            "grid_column": null,
            "overflow_y": null,
            "overflow_x": null,
            "grid_auto_flow": null,
            "grid_area": null,
            "grid_template_columns": null,
            "flex": null,
            "_model_name": "LayoutModel",
            "justify_items": null,
            "grid_row": null,
            "max_height": null,
            "align_content": null,
            "visibility": null,
            "align_self": null,
            "height": null,
            "min_height": null,
            "padding": null,
            "grid_auto_rows": null,
            "grid_gap": null,
            "max_width": null,
            "order": null,
            "_view_module_version": "1.2.0",
            "grid_template_areas": null,
            "object_position": null,
            "object_fit": null,
            "grid_auto_columns": null,
            "margin": null,
            "display": null,
            "left": null
          }
        }
      }
    }
  },
  "cells": [
    {
      "cell_type": "markdown",
      "metadata": {
        "id": "view-in-github",
        "colab_type": "text"
      },
      "source": [
        "<a href=\"https://colab.research.google.com/github/ksawczak/dw_matrix/blob/master/day5.ipynb\" target=\"_parent\"><img src=\"https://colab.research.google.com/assets/colab-badge.svg\" alt=\"Open In Colab\"/></a>"
      ]
    },
    {
      "cell_type": "code",
      "metadata": {
        "id": "R4kR6GIDLwKO",
        "colab_type": "code",
        "outputId": "7520a917-e777-42bf-ade7-7c019b9af504",
        "colab": {
          "base_uri": "https://localhost:8080/",
          "height": 212
        }
      },
      "source": [
        "!pip install eli5"
      ],
      "execution_count": 34,
      "outputs": [
        {
          "output_type": "stream",
          "text": [
            "Requirement already satisfied: eli5 in /usr/local/lib/python3.6/dist-packages (0.10.1)\n",
            "Requirement already satisfied: numpy>=1.9.0 in /usr/local/lib/python3.6/dist-packages (from eli5) (1.17.5)\n",
            "Requirement already satisfied: attrs>16.0.0 in /usr/local/lib/python3.6/dist-packages (from eli5) (19.3.0)\n",
            "Requirement already satisfied: jinja2 in /usr/local/lib/python3.6/dist-packages (from eli5) (2.11.1)\n",
            "Requirement already satisfied: tabulate>=0.7.7 in /usr/local/lib/python3.6/dist-packages (from eli5) (0.8.6)\n",
            "Requirement already satisfied: graphviz in /usr/local/lib/python3.6/dist-packages (from eli5) (0.10.1)\n",
            "Requirement already satisfied: scipy in /usr/local/lib/python3.6/dist-packages (from eli5) (1.4.1)\n",
            "Requirement already satisfied: six in /usr/local/lib/python3.6/dist-packages (from eli5) (1.12.0)\n",
            "Requirement already satisfied: scikit-learn>=0.18 in /usr/local/lib/python3.6/dist-packages (from eli5) (0.22.1)\n",
            "Requirement already satisfied: MarkupSafe>=0.23 in /usr/local/lib/python3.6/dist-packages (from jinja2->eli5) (1.1.1)\n",
            "Requirement already satisfied: joblib>=0.11 in /usr/local/lib/python3.6/dist-packages (from scikit-learn>=0.18->eli5) (0.14.1)\n"
          ],
          "name": "stdout"
        }
      ]
    },
    {
      "cell_type": "markdown",
      "metadata": {
        "id": "DgvSgqdmxuTB",
        "colab_type": "text"
      },
      "source": [
        "# New Section"
      ]
    },
    {
      "cell_type": "code",
      "metadata": {
        "id": "w86hYHwkMLGR",
        "colab_type": "code",
        "colab": {}
      },
      "source": [
        "import pandas as pd\n",
        "import numpy as np\n",
        "from sklearn.tree import DecisionTreeRegressor\n",
        "from sklearn.ensemble import RandomForestRegressor\n",
        "\n",
        "from sklearn.metrics import mean_absolute_error\n",
        "from sklearn.model_selection import cross_val_score\n",
        "\n",
        "import eli5\n",
        "from eli5.sklearn import PermutationImportance\n",
        "\n",
        "from ast import literal_eval\n",
        "from tqdm import tqdm_notebook"
      ],
      "execution_count": 0,
      "outputs": []
    },
    {
      "cell_type": "code",
      "metadata": {
        "id": "Uc_nT022NH1P",
        "colab_type": "code",
        "outputId": "2b2310b0-80a7-463f-a58a-a19662c170f7",
        "colab": {
          "base_uri": "https://localhost:8080/",
          "height": 34
        }
      },
      "source": [
        "cd \"/content/drive/My Drive/Colab Notebooks/dw_matrix\""
      ],
      "execution_count": 36,
      "outputs": [
        {
          "output_type": "stream",
          "text": [
            "/content/drive/My Drive/Colab Notebooks/dw_matrix\n"
          ],
          "name": "stdout"
        }
      ]
    },
    {
      "cell_type": "code",
      "metadata": {
        "id": "kBK72jdmaUGm",
        "colab_type": "code",
        "outputId": "5792b315-ef9a-4da4-c03d-a3fff77343bd",
        "colab": {
          "base_uri": "https://localhost:8080/",
          "height": 34
        }
      },
      "source": [
        "df = pd.read_csv('data/shoes_prices.csv', low_memory = False)\n",
        "df.shape"
      ],
      "execution_count": 58,
      "outputs": [
        {
          "output_type": "execute_result",
          "data": {
            "text/plain": [
              "(18280, 48)"
            ]
          },
          "metadata": {
            "tags": []
          },
          "execution_count": 58
        }
      ]
    },
    {
      "cell_type": "code",
      "metadata": {
        "id": "kwb-st4yNSiT",
        "colab_type": "code",
        "colab": {}
      },
      "source": [
        "#df = pd.read_csv('data/shoes_prices.csv', low_memory=False)\n",
        "#df_usd = df[df.prices_currency == 'USD'].copy()\n",
        "#df_usd['prices_amountmin'] = df_usd.prices_amountmin.astype(np.float)\n",
        "#filter_max = np.percentile(df_usd['prices_amountmin'],99)\n",
        "#df_usd_filter = df_usd[df_usd['prices_amountmin']<filter_max]"
      ],
      "execution_count": 0,
      "outputs": []
    },
    {
      "cell_type": "code",
      "metadata": {
        "id": "ivJfw2HRQyKy",
        "colab_type": "code",
        "outputId": "e8a634cd-6b82-403d-dec2-e2de7703a17b",
        "colab": {
          "base_uri": "https://localhost:8080/",
          "height": 34
        }
      },
      "source": [
        "#df = df_usd_filter\n",
        "df.shape"
      ],
      "execution_count": 59,
      "outputs": [
        {
          "output_type": "execute_result",
          "data": {
            "text/plain": [
              "(18280, 48)"
            ]
          },
          "metadata": {
            "tags": []
          },
          "execution_count": 59
        }
      ]
    },
    {
      "cell_type": "code",
      "metadata": {
        "id": "_nZQId5QNddG",
        "colab_type": "code",
        "colab": {}
      },
      "source": [
        "#df.to_csv('data/shoes_prices.csv', index=False)\n",
        "#df = pd.read_csv('data/shoes_prices.csv', low_memory=False)\n",
        "#df.shape"
      ],
      "execution_count": 0,
      "outputs": []
    },
    {
      "cell_type": "code",
      "metadata": {
        "id": "NJM0ABs4RfnL",
        "colab_type": "code",
        "colab": {}
      },
      "source": [
        "def run_model (feats, model = DecisionTreeRegressor(max_depth=5)):\n",
        "  X = df[feats].values\n",
        "  y = df['prices_amountmin'].values\n",
        "\n",
        "  scores = cross_val_score(model, X, y, scoring='neg_mean_absolute_error')\n",
        "  return np.mean(scores), np.std(scores)"
      ],
      "execution_count": 0,
      "outputs": []
    },
    {
      "cell_type": "code",
      "metadata": {
        "id": "QhtYBRBBSgx4",
        "colab_type": "code",
        "colab": {
          "base_uri": "https://localhost:8080/",
          "height": 34
        },
        "outputId": "6227afa0-efca-4a4d-9d54-40c602e71ca1"
      },
      "source": [
        "df['brand_cat'] = df['brand'].map(lambda x: str(x).lower()).factorize()[0]\n",
        "run_model(['brand_cat'])"
      ],
      "execution_count": 62,
      "outputs": [
        {
          "output_type": "execute_result",
          "data": {
            "text/plain": [
              "(-58.133398968282776, 4.206122611474276)"
            ]
          },
          "metadata": {
            "tags": []
          },
          "execution_count": 62
        }
      ]
    },
    {
      "cell_type": "code",
      "metadata": {
        "id": "4mzv7wNQTJ2K",
        "colab_type": "code",
        "colab": {
          "base_uri": "https://localhost:8080/",
          "height": 34
        },
        "outputId": "47050587-78b3-4cdb-f7f2-40d493d85fbb"
      },
      "source": [
        "model = RandomForestRegressor(max_depth=5, n_estimators=100, random_state=0)\n",
        "run_model(['brand_cat'],model)"
      ],
      "execution_count": 63,
      "outputs": [
        {
          "output_type": "execute_result",
          "data": {
            "text/plain": [
              "(-57.31783843165656, 4.181246596160967)"
            ]
          },
          "metadata": {
            "tags": []
          },
          "execution_count": 63
        }
      ]
    },
    {
      "cell_type": "code",
      "metadata": {
        "id": "nvjXLVRwTp1p",
        "colab_type": "code",
        "colab": {
          "base_uri": "https://localhost:8080/",
          "height": 230
        },
        "outputId": "049750bf-73d9-4c09-d373-1b9c97b5c3b5"
      },
      "source": [
        "df.features"
      ],
      "execution_count": 64,
      "outputs": [
        {
          "output_type": "execute_result",
          "data": {
            "text/plain": [
              "0        [{\"key\":\"Gender\",\"value\":[\"Men\"]},{\"key\":\"Shoe...\n",
              "1        [{\"key\":\"Gender\",\"value\":[\"Men\"]},{\"key\":\"Shoe...\n",
              "2        [{\"key\":\"Gender\",\"value\":[\"Men\"]},{\"key\":\"Colo...\n",
              "3        [{\"key\":\"Gender\",\"value\":[\"Men\"]},{\"key\":\"Colo...\n",
              "4        [{\"key\":\"Gender\",\"value\":[\"Men\"]},{\"key\":\"Colo...\n",
              "                               ...                        \n",
              "18275    [{\"key\":\"Style\",\"value\":[\"Desert Boots\"]},{\"ke...\n",
              "18276    [{\"key\":\"Shoe Size\",\"value\":[\"9.5\"]},{\"key\":\"G...\n",
              "18277    [{\"key\":\"Gender\",\"value\":[\"Unisex\"]},{\"key\":\"F...\n",
              "18278    [{\"key\":\"Gender\",\"value\":[\"Unisex\"]},{\"key\":\"F...\n",
              "18279    [{\"key\":\"Gender\",\"value\":[\"Unisex\"]},{\"key\":\"F...\n",
              "Name: features, Length: 18280, dtype: object"
            ]
          },
          "metadata": {
            "tags": []
          },
          "execution_count": 64
        }
      ]
    },
    {
      "cell_type": "markdown",
      "metadata": {
        "id": "9twUiIBInJmT",
        "colab_type": "text"
      },
      "source": [
        "Start here"
      ]
    },
    {
      "cell_type": "code",
      "metadata": {
        "id": "YZfBuGWuV-Ds",
        "colab_type": "code",
        "colab": {}
      },
      "source": [
        "def parse_features(x):\n",
        "  output_dict = {}\n",
        "  if str(x) == 'nan': return output_dict\n",
        "\n",
        "  features = literal_eval(x.replace('\\\\\"','\"'))\n",
        "  for item in features:\n",
        "    key = item['key'].lower().strip()\n",
        "    value = item ['value'][0].lower().strip()\n",
        "\n",
        "    output_dict[key] = value\n",
        "\n",
        "  return output_dict\n",
        "\n",
        "df ['features_parsed'] = df['features'].map(parse_features)"
      ],
      "execution_count": 0,
      "outputs": []
    },
    {
      "cell_type": "code",
      "metadata": {
        "id": "UFunnFLwXISC",
        "colab_type": "code",
        "colab": {
          "base_uri": "https://localhost:8080/",
          "height": 143
        },
        "outputId": "75536cf0-b35a-4bca-fd0f-d07fc60a493a"
      },
      "source": [
        "df['features_parsed'].head().values"
      ],
      "execution_count": 66,
      "outputs": [
        {
          "output_type": "execute_result",
          "data": {
            "text/plain": [
              "array([{'gender': 'men', 'shoe size': 'm', 'shoe category': \"men's shoes\", 'color': 'multicolor', 'manufacturer part number': '8190-w-navy-7.5', 'brand': 'josmo'},\n",
              "       {'gender': 'men', 'shoe size': 'm', 'shoe category': \"men's shoes\", 'color': 'multicolor', 'manufacturer part number': '8190-w-navy-7.5', 'brand': 'josmo'},\n",
              "       {'gender': 'men', 'color': 'black', 'shipping weight (in pounds)': '0.45', 'condition': 'new', 'brand': 'servus by honeywell', 'manufacturer_part_number': 'zsr101blmlg'},\n",
              "       {'gender': 'men', 'color': 'black', 'shipping weight (in pounds)': '0.45', 'condition': 'new', 'brand': 'servus by honeywell', 'manufacturer_part_number': 'zsr101blmlg'},\n",
              "       {'gender': 'men', 'color': 'black', 'shipping weight (in pounds)': '0.45', 'condition': 'new', 'brand': 'servus by honeywell', 'manufacturer_part_number': 'zsr101blmlg'}],\n",
              "      dtype=object)"
            ]
          },
          "metadata": {
            "tags": []
          },
          "execution_count": 66
        }
      ]
    },
    {
      "cell_type": "code",
      "metadata": {
        "id": "wsKSt3M0y9Uy",
        "colab_type": "code",
        "colab": {
          "base_uri": "https://localhost:8080/",
          "height": 34
        },
        "outputId": "306166b9-8167-43dc-8f89-7951087292ce"
      },
      "source": [
        "keys = set()\n",
        "\n",
        "df['features_parsed'].map(lambda x: keys.update(x.keys()))\n",
        "\n",
        "len(keys)"
      ],
      "execution_count": 67,
      "outputs": [
        {
          "output_type": "execute_result",
          "data": {
            "text/plain": [
              "476"
            ]
          },
          "metadata": {
            "tags": []
          },
          "execution_count": 67
        }
      ]
    },
    {
      "cell_type": "code",
      "metadata": {
        "id": "qrVE24al18ON",
        "colab_type": "code",
        "colab": {
          "base_uri": "https://localhost:8080/",
          "height": 66,
          "referenced_widgets": [
            "f08fa528011940ccaedcf432793efcb7",
            "b306d2163ae34aedbd0a289c1de08353",
            "4f9503e1ea444e049ce0d6bc5985cdc2",
            "a63b6c80bcc843b3a5ee36ddf6e60429",
            "d4eece62729e4e5e937a68312a01cd88",
            "3a47bf4334dc4a56b1c3a633b5611f82",
            "001c118d597d4cebaee2d9ade3837093",
            "b42290f62b1b4deaab7dea7f29fc41c1"
          ]
        },
        "outputId": "812cb685-e062-4119-f436-66cd82723b45"
      },
      "source": [
        "def get_name_feat(key):\n",
        "  return 'feat_' + key\n",
        "\n",
        "for key in tqdm_notebook(keys):\n",
        "  df[get_name_feat(key)] = df.features_parsed.map(lambda feats: feats[key] if key in feats else np.nan )"
      ],
      "execution_count": 68,
      "outputs": [
        {
          "output_type": "display_data",
          "data": {
            "application/vnd.jupyter.widget-view+json": {
              "model_id": "f08fa528011940ccaedcf432793efcb7",
              "version_minor": 0,
              "version_major": 2
            },
            "text/plain": [
              "HBox(children=(IntProgress(value=0, max=476), HTML(value='')))"
            ]
          },
          "metadata": {
            "tags": []
          }
        },
        {
          "output_type": "stream",
          "text": [
            "\n"
          ],
          "name": "stdout"
        }
      ]
    },
    {
      "cell_type": "code",
      "metadata": {
        "id": "DS2BVymD25FD",
        "colab_type": "code",
        "colab": {}
      },
      "source": [
        "keys_stat= {}\n",
        "for key in keys:\n",
        "  keys_stat[key] = df[ False  == df[get_name_feat(key)].isnull()].shape[0]/df.shape[0] * 100"
      ],
      "execution_count": 0,
      "outputs": []
    },
    {
      "cell_type": "code",
      "metadata": {
        "id": "W0_xqPBv4rK4",
        "colab_type": "code",
        "colab": {
          "base_uri": "https://localhost:8080/",
          "height": 105
        },
        "outputId": "f32f35f2-f3ba-4a7c-e537-604a864c3e7d"
      },
      "source": [
        "{k:v for k,v in keys_stat.items() if v > 30}"
      ],
      "execution_count": 70,
      "outputs": [
        {
          "output_type": "execute_result",
          "data": {
            "text/plain": [
              "{'brand': 48.62691466083151,\n",
              " 'color': 47.784463894967175,\n",
              " 'gender': 50.17505470459519,\n",
              " 'manufacturer part number': 36.252735229759296,\n",
              " 'material': 34.9070021881838}"
            ]
          },
          "metadata": {
            "tags": []
          },
          "execution_count": 70
        }
      ]
    },
    {
      "cell_type": "code",
      "metadata": {
        "id": "uyfujTkf5j-R",
        "colab_type": "code",
        "colab": {}
      },
      "source": [
        "df['feat_color_cat'] = df['feat_color'].factorize()[0]\n",
        "df['feat_brand_cat'] = df['feat_brand'].factorize()[0]\n",
        "df['feat_gender_cat'] = df['feat_color'].factorize()[0]\n",
        "df['feat_manufacturer part number_cat'] = df['feat_manufacturer part number'].factorize()[0]\n",
        "df['feat_material_cat'] = df['feat_material'].factorize()[0]\n",
        "\n",
        "df['feat_sport_cat'] = df['feat_sport'].factorize()[0]\n",
        "df['feat_style_cat'] = df['feat_style'].factorize()[0]\n",
        "\n",
        "for key in keys:\n",
        "  df[get_name_feat(key) + '_cat'] = df[get_name_feat(key)].factorize()[0]"
      ],
      "execution_count": 0,
      "outputs": []
    },
    {
      "cell_type": "code",
      "metadata": {
        "id": "C-HJmaiX8F2h",
        "colab_type": "code",
        "colab": {
          "base_uri": "https://localhost:8080/",
          "height": 34
        },
        "outputId": "00051e46-bbab-413b-f36b-0e3fcd102709"
      },
      "source": [
        "df['brand'] = df['brand'].map(lambda x: str(x).lower())\n",
        "df[df.brand == df.feat_brand].shape"
      ],
      "execution_count": 72,
      "outputs": [
        {
          "output_type": "execute_result",
          "data": {
            "text/plain": [
              "(8846, 1002)"
            ]
          },
          "metadata": {
            "tags": []
          },
          "execution_count": 72
        }
      ]
    },
    {
      "cell_type": "code",
      "metadata": {
        "id": "-rnTsdmlSuDM",
        "colab_type": "code",
        "colab": {
          "base_uri": "https://localhost:8080/",
          "height": 34
        },
        "outputId": "65e68f3f-241c-4d40-ff19-705a243fa2ab"
      },
      "source": [
        "model = RandomForestRegressor(max_depth=5, n_estimators=100)\n",
        "run_model(['brand_cat'], model)"
      ],
      "execution_count": 73,
      "outputs": [
        {
          "output_type": "execute_result",
          "data": {
            "text/plain": [
              "(-57.35389966693642, 4.1377956448686914)"
            ]
          },
          "metadata": {
            "tags": []
          },
          "execution_count": 73
        }
      ]
    },
    {
      "cell_type": "code",
      "metadata": {
        "id": "ix9U8dZQaPCJ",
        "colab_type": "code",
        "colab": {
          "base_uri": "https://localhost:8080/",
          "height": 1000
        },
        "outputId": "edabe923-6e16-4ab9-c1bc-b727727945c2"
      },
      "source": [
        "feats_cat = [x for  x in df.columns if 'cat' in x]\n",
        "feats_cat\n"
      ],
      "execution_count": 74,
      "outputs": [
        {
          "output_type": "execute_result",
          "data": {
            "text/plain": [
              "['categories',\n",
              " 'brand_cat',\n",
              " 'feat_clothing category',\n",
              " 'feat_shoe category',\n",
              " 'feat_location - city/state',\n",
              " 'feat_certifications and listings',\n",
              " 'feat_location - country',\n",
              " 'feat_fabrication',\n",
              " 'feat_catalog',\n",
              " 'feat_multi pack indicator',\n",
              " 'feat_recommended location',\n",
              " 'feat_color_cat',\n",
              " 'feat_brand_cat',\n",
              " 'feat_gender_cat',\n",
              " 'feat_manufacturer part number_cat',\n",
              " 'feat_material_cat',\n",
              " 'feat_sport_cat',\n",
              " 'feat_style_cat',\n",
              " 'feat_animal type_cat',\n",
              " 'feat_nike id_cat',\n",
              " 'feat_clothing size type_cat',\n",
              " 'feat_number of pieces_cat',\n",
              " 'feat_sports league_cat',\n",
              " 'feat_style:_cat',\n",
              " 'feat_reinforced pockets_cat',\n",
              " 'feat_technician_cat',\n",
              " 'feat_flame resistant_cat',\n",
              " 'feat_lens material_cat',\n",
              " 'feat_model_cat',\n",
              " 'feat_removable liner_cat',\n",
              " 'feat_ean_cat',\n",
              " 'feat_bridge size:_cat',\n",
              " 'feat_model no._cat',\n",
              " 'feat_product dimensions_cat',\n",
              " 'feat_made in_cat',\n",
              " 'feat_elastic banded waist_cat',\n",
              " 'feat_mirrored_cat',\n",
              " 'feat_casual & dress shoe style_cat',\n",
              " 'feat_shoe height_cat',\n",
              " 'feat_toe type_cat',\n",
              " 'feat_batteries required?_cat',\n",
              " 'feat_gemstone type_cat',\n",
              " 'feat_chain length_cat',\n",
              " 'feat_is energy star-certified_cat',\n",
              " 'feat_is orthopedic_cat',\n",
              " 'feat_ul safety listing_cat',\n",
              " 'feat_sleeve length_cat',\n",
              " 'feat_season_cat',\n",
              " 'feat_subdial_cat',\n",
              " 'feat_item weight unit of measure_cat',\n",
              " 'feat_lens color family_cat',\n",
              " 'feat_contains cubic zirconia_cat',\n",
              " 'feat_picture_cat',\n",
              " 'feat_motion control_cat',\n",
              " 'feat_cushioning_cat',\n",
              " 'feat_isbn_cat',\n",
              " 'feat_leg_cat',\n",
              " 'feat_charger included_cat',\n",
              " 'feat_spikes type_cat',\n",
              " 'feat_hooded_cat',\n",
              " 'feat_item package quantity_cat',\n",
              " 'feat_fishing_cat',\n",
              " 'feat_feature_cat',\n",
              " 'feat_antiscratch lens coating_cat',\n",
              " 'feat_item style_cat',\n",
              " 'feat_fits most screen size_cat',\n",
              " 'feat_batteries required_cat',\n",
              " 'feat_year_cat',\n",
              " 'feat_suitable for_cat',\n",
              " 'feat_country of origin components:_cat',\n",
              " 'feat_use_cat',\n",
              " 'feat_power type_cat',\n",
              " 'feat_safety feature_cat',\n",
              " 'feat_shape_cat',\n",
              " 'feat_frame style_cat',\n",
              " 'feat_lined_cat',\n",
              " 'feat_transactionid_cat',\n",
              " 'feat_eye protection type_cat',\n",
              " 'feat_free item_cat',\n",
              " 'feat_hardsided or softsided_cat',\n",
              " 'feat_closure style_cat',\n",
              " 'feat_box_cat',\n",
              " 'feat_fit to_cat',\n",
              " 'feat_product id_cat',\n",
              " 'feat_width_cat',\n",
              " 'feat_tactical_cat',\n",
              " 'feat_clothing type_cat',\n",
              " 'feat_item spec attr - style (ebay)_cat',\n",
              " 'feat_shipping to usa_cat',\n",
              " 'feat_rx-able_cat',\n",
              " 'feat_characteristics_cat',\n",
              " 'feat_band length (in.)_cat',\n",
              " 'feat_golf shoe type_cat',\n",
              " 'feat_foot arch_cat',\n",
              " 'feat_quantity in set_cat',\n",
              " 'feat_designed for_cat',\n",
              " 'feat_chest_cat',\n",
              " 'feat_part type_cat',\n",
              " 'feat_capacity_cat',\n",
              " 'feat_expandable_cat',\n",
              " 'feat_sub type_cat',\n",
              " 'feat_very popular bag now a days_cat',\n",
              " 'feat_water resistant_cat',\n",
              " 'feat_watch case shape_cat',\n",
              " 'feat_character_cat',\n",
              " 'feat_boot height_cat',\n",
              " 'feat_gold karat_cat',\n",
              " 'feat_date_cat',\n",
              " 'feat_uv protection_cat',\n",
              " 'feat_date first available_cat',\n",
              " 'feat_polarized lenses_cat',\n",
              " 'feat_protection_cat',\n",
              " 'feat_theme_cat',\n",
              " 'feat_sock style_cat',\n",
              " 'feat_hairstyle_cat',\n",
              " 'feat_item character_cat',\n",
              " 'feat_bracelet style_cat',\n",
              " 'feat_occasion_cat',\n",
              " 'feat_target audience_cat',\n",
              " 'feat_productgroup_cat',\n",
              " 'feat_assembled product weight_cat',\n",
              " 'feat_number of heat settings_cat',\n",
              " 'feat_age end_cat',\n",
              " 'feat_lining_cat',\n",
              " 'feat_resolution megapixels_cat',\n",
              " 'feat_manufacturer number_cat',\n",
              " 'feat_temple length_cat',\n",
              " 'feat_auto shut-off_cat',\n",
              " 'feat_overall material_cat',\n",
              " 'feat_wind resistant_cat',\n",
              " 'feat_fastener_cat',\n",
              " 'feat_light transmission (vlt)_cat',\n",
              " 'feat_crown_cat',\n",
              " 'feat_manufacturer_part_number_cat',\n",
              " 'feat_reinforced knee_cat',\n",
              " 'feat_neckline_cat',\n",
              " 'feat_band manufacturer_cat',\n",
              " 'feat_clothing category_cat',\n",
              " 'feat_metal color_cat',\n",
              " 'feat_auto_cat',\n",
              " 'feat_name_cat',\n",
              " 'feat_is polarized_cat',\n",
              " 'feat_domestic shipping_cat',\n",
              " 'feat_pattern_cat',\n",
              " 'feat_manufacturer_cat',\n",
              " 'feat_country of manufacture_cat',\n",
              " 'feat_pocket_cat',\n",
              " 'feat_item weight_cat',\n",
              " 'feat_fits over eyeglasses_cat',\n",
              " 'feat_chronograph_cat',\n",
              " 'feat_work shoes_cat',\n",
              " 'feat_features & fastening_cat',\n",
              " 'feat_fits model_cat',\n",
              " 'feat_comfort technology_cat',\n",
              " 'feat_walmart no._cat',\n",
              " 'feat_battery type_cat',\n",
              " 'feat_ring size_cat',\n",
              " 'feat_mechanic_cat',\n",
              " 'feat_hunting_cat',\n",
              " 'feat_style code_cat',\n",
              " 'feat_lens type_cat',\n",
              " 'feat_sku#_cat',\n",
              " 'feat_to fit_cat',\n",
              " 'feat_primary color_cat',\n",
              " 'feat_is wheeled_cat',\n",
              " 'feat_diameter_cat',\n",
              " 'feat_footwear type_cat',\n",
              " 'feat_diamond color_cat',\n",
              " 'feat_atpv arc rating_cat',\n",
              " 'feat_product type_cat',\n",
              " 'feat_heat zones_cat',\n",
              " 'feat_is portable_cat',\n",
              " 'feat_msrp_cat',\n",
              " 'feat_garment care_cat',\n",
              " 'feat_carats_cat',\n",
              " 'feat_age segment_cat',\n",
              " 'feat_guaranteed authentic_cat',\n",
              " 'feat_����������������_cat',\n",
              " 'feat_country//region of manufacture_cat',\n",
              " 'feat_height_cat',\n",
              " 'feat_bridge_cat',\n",
              " 'feat_insulation_cat',\n",
              " 'feat_international shipping_cat',\n",
              " 'feat_metal type_cat',\n",
              " 'feat_athlete_cat',\n",
              " 'feat_size_cat',\n",
              " 'feat_number of items_cat',\n",
              " 'feat_hood_cat',\n",
              " 'feat_charge time (minutes)_cat',\n",
              " 'feat_stone type_cat',\n",
              " 'feat_design_cat',\n",
              " 'feat_features_cat',\n",
              " 'feat_weather resistant_cat',\n",
              " 'feat_sizearm_cat',\n",
              " 'feat_country of manufacturer_cat',\n",
              " 'feat_uv rating_cat',\n",
              " 'feat_is weather-resistant_cat',\n",
              " 'feat_diamond clarity_cat',\n",
              " 'feat_compatible devices_cat',\n",
              " 'feat_resizable_cat',\n",
              " 'feat_hands_cat',\n",
              " 'feat_bed size_cat',\n",
              " 'feat_casing_cat',\n",
              " 'feat_protects against_cat',\n",
              " 'feat_age start_cat',\n",
              " 'feat_water-resistant_cat',\n",
              " 'feat_outer material_cat',\n",
              " 'feat_assembled in country of origin_cat',\n",
              " 'feat_package_cat',\n",
              " 'feat_number of compartments_cat',\n",
              " 'feat_jewelry setting_cat',\n",
              " 'feat_frame material_cat',\n",
              " 'feat_szie_cat',\n",
              " 'feat_nickel free_cat',\n",
              " 'feat_front style_cat',\n",
              " 'feat_country////region of manufacture_cat',\n",
              " 'feat_dial markers_cat',\n",
              " 'feat_series name_cat',\n",
              " 'feat_sku number_cat',\n",
              " 'feat_navy blue_cat',\n",
              " 'feat_profession_cat',\n",
              " 'feat_waist size_cat',\n",
              " 'feat_watch style_cat',\n",
              " 'feat_full product manual_cat',\n",
              " 'feat_is dark sky-compliant_cat',\n",
              " 'feat_has paper wood_cat',\n",
              " 'feat_safety apparel product type_cat',\n",
              " 'feat_cm_cat',\n",
              " 'feat_movement_cat',\n",
              " 'feat_fabric care_cat',\n",
              " 'feat_jacket length_cat',\n",
              " 'feat_stylenumber_cat',\n",
              " 'feat_lens color_cat',\n",
              " 'feat_clasp type_cat',\n",
              " 'feat_shoe category_cat',\n",
              " 'feat_case diameter_cat',\n",
              " 'feat_fits styles_cat',\n",
              " 'feat_crystal_cat',\n",
              " 'feat_temple size:_cat',\n",
              " 'feat_number of batteries included_cat',\n",
              " 'feat_finish_cat',\n",
              " 'feat_case type:_cat',\n",
              " 'feat_labor_cat',\n",
              " 'feat_color mapping_cat',\n",
              " 'feat_item color_cat',\n",
              " 'feat_global composite sports type_cat',\n",
              " 'feat_size/dimensions_cat',\n",
              " 'feat_compass_cat',\n",
              " 'feat_lens socket width_cat',\n",
              " 'feat_designer_cat',\n",
              " 'feat_band length_cat',\n",
              " 'feat_bag size range_cat',\n",
              " 'feat_pronation_cat',\n",
              " 'feat_sleeve style_cat',\n",
              " 'feat_best sellers rank_cat',\n",
              " 'feat_handbag style_cat',\n",
              " 'feat_high visibility (ansi compliant)_cat',\n",
              " 'feat_sock size_cat',\n",
              " 'feat_age group_cat',\n",
              " 'feat_fabric content_cat',\n",
              " 'feat_boxed-product dimensions_cat',\n",
              " 'feat_is water-resistant_cat',\n",
              " 'feat_contained battery type_cat',\n",
              " 'feat_fabric care instructions_cat',\n",
              " 'feat_weight_cat',\n",
              " 'feat_inv_cat',\n",
              " 'feat_international shipping?_cat',\n",
              " 'feat_has expiration_cat',\n",
              " 'feat_is lined_cat',\n",
              " 'feat_band material_cat',\n",
              " 'feat_clothing product type_cat',\n",
              " 'feat_country of origin assembly:_cat',\n",
              " 'feat_video game platform_cat',\n",
              " 'feat_dimensions_cat',\n",
              " 'feat_polarized_cat',\n",
              " 'feat_item width_cat',\n",
              " 'feat_case type_cat',\n",
              " 'feat_heart rate monitor_cat',\n",
              " 'feat_purpose_cat',\n",
              " 'feat_type 2_cat',\n",
              " 'feat_interior pockets_cat',\n",
              " 'feat_authenticity_cat',\n",
              " 'feat_label_cat',\n",
              " 'feat_lens tint_cat',\n",
              " 'feat_materials_cat',\n",
              " 'feat_style number_cat',\n",
              " 'feat_lens material:_cat',\n",
              " 'feat_age range_cat',\n",
              " 'feat_product name_cat',\n",
              " 'feat_fabric type_cat',\n",
              " 'feat_euro size_cat',\n",
              " 'feat_main colour_cat',\n",
              " 'feat_frame depth_cat',\n",
              " 'feat_country of origin_cat',\n",
              " 'feat_face shape_cat',\n",
              " 'feat_year made_cat',\n",
              " 'feat_frame color_cat',\n",
              " 'feat_wash_cat',\n",
              " 'feat_necklace type_cat',\n",
              " 'feat_vehicle type_cat',\n",
              " 'feat_sku_cat',\n",
              " 'feat_closure_cat',\n",
              " 'feat_has mercury_cat',\n",
              " 'feat_case back_cat',\n",
              " 'feat_amazonbestsellersrank_cat',\n",
              " 'feat_lining material_cat',\n",
              " 'feat_insulated_cat',\n",
              " 'feat_power reserve_cat',\n",
              " 'feat_fastener type_cat',\n",
              " 'feat_accessory type_cat',\n",
              " 'feat_gps_cat',\n",
              " 'feat_colour_cat',\n",
              " 'feat_frame type_cat',\n",
              " 'feat_location - city/state_cat',\n",
              " 'feat_kids backpacks_cat',\n",
              " 'feat_certifications and listings_cat',\n",
              " 'feat_adidas_cat',\n",
              " 'feat_sizebridge_cat',\n",
              " 'feat_watch shape_cat',\n",
              " 'feat_looks best on these face shapes:_cat',\n",
              " 'feat_display technology_cat',\n",
              " 'feat_fits brands_cat',\n",
              " 'feat_construction_cat',\n",
              " 'feat_material type_cat',\n",
              " 'feat_vendor description_cat',\n",
              " 'feat_retail price_cat',\n",
              " 'feat_special features_cat',\n",
              " 'feat_bridge/temple size:_cat',\n",
              " 'feat_shade_cat',\n",
              " 'feat_location - country_cat',\n",
              " 'feat_100% adidas authentic_cat',\n",
              " 'feat_applicable_cat',\n",
              " 'feat_alarm_cat',\n",
              " 'feat_audience_cat',\n",
              " 'feat_heel height_cat',\n",
              " 'feat_arm_cat',\n",
              " 'feat_fuel type_cat',\n",
              " 'feat_measurements:_cat',\n",
              " 'feat_is waterproof_cat',\n",
              " 'feat_type of sole_cat',\n",
              " 'feat_style #_cat',\n",
              " 'feat_hat style_cat',\n",
              " 'feat_fine or fashion_cat',\n",
              " 'feat_what includes_cat',\n",
              " 'feat_issued/ not-issued_cat',\n",
              " 'feat_nike product #_cat',\n",
              " 'feat_era_cat',\n",
              " 'feat_metal stamp_cat',\n",
              " 'feat_fabrication_cat',\n",
              " 'feat_article_cat',\n",
              " 'feat_material detail-1_cat',\n",
              " 'feat_case material_cat',\n",
              " 'feat_eyewear frame style_cat',\n",
              " 'feat_shipping weight_cat',\n",
              " 'feat_length_cat',\n",
              " 'feat_case thickness_cat',\n",
              " 'feat_shoe closure_cat',\n",
              " 'feat_machine washable_cat',\n",
              " 'feat_country/region of manufacture_cat',\n",
              " 'feat_age_cat',\n",
              " 'feat_frame material:_cat',\n",
              " 'feat_main color_cat',\n",
              " 'feat_catalog_cat',\n",
              " 'feat_sub style_cat',\n",
              " 'feat_leather grade_cat',\n",
              " 'feat_safety features_cat',\n",
              " 'feat_country/ organization_cat',\n",
              " 'feat_multi pack indicator_cat',\n",
              " 'feat_packageweight_cat',\n",
              " 'feat_shoe size_cat',\n",
              " 'feat_pattern or design_cat',\n",
              " 'feat_used with equipment type_cat',\n",
              " 'feat_lens technology_cat',\n",
              " 'feat_genre_cat',\n",
              " 'feat_country of origin - assembly_cat',\n",
              " 'feat_colour code_cat',\n",
              " 'feat_wheel type_cat',\n",
              " 'feat_материал_cat',\n",
              " 'feat_band color_cat',\n",
              " 'feat_band type_cat',\n",
              " 'feat_fit_cat',\n",
              " 'feat_manufacturer sku_cat',\n",
              " 'feat_shipping weight (in pounds)_cat',\n",
              " 'feat_resolution_cat',\n",
              " 'feat_watch band material_cat',\n",
              " 'feat_waterproof_cat',\n",
              " 'feat_display_cat',\n",
              " 'feat_count_cat',\n",
              " 'feat_date first available at amazon.ca_cat',\n",
              " 'feat_stock no._cat',\n",
              " 'feat_leg opening:_cat',\n",
              " 'feat_product #_cat',\n",
              " 'feat_net weight_cat',\n",
              " 'feat_bezel_cat',\n",
              " 'feat_watch power source_cat',\n",
              " 'feat_thick, warm, cozy_cat',\n",
              " 'feat_mpn#_cat',\n",
              " 'feat_impact resistant_cat',\n",
              " 'feat_enhanced visibility (reflective)_cat',\n",
              " 'feat_upper material_cat',\n",
              " 'feat_case tone_cat',\n",
              " 'feat_black_cat',\n",
              " 'feat_case finish_cat',\n",
              " 'feat_recommended location_cat',\n",
              " 'feat_material composition_cat',\n",
              " 'feat_condition_cat',\n",
              " 'feat_shirt size_cat',\n",
              " 'feat_mpn_cat',\n",
              " 'feat_variant group id_cat',\n",
              " 'feat_part number_cat',\n",
              " 'feat_sports team_cat',\n",
              " 'feat_bridge width_cat',\n",
              " 'feat_attachment_cat',\n",
              " 'feat_number of wheels_cat',\n",
              " 'feat_date first available at amazon.co.uk_cat',\n",
              " 'feat_disclosures_cat',\n",
              " 'feat_contains batteries_cat',\n",
              " 'feat_removable hood_cat',\n",
              " 'feat_military style_cat',\n",
              " 'feat_item type_cat',\n",
              " 'feat_conflict_cat',\n",
              " 'feat_shoe fastening type_cat',\n",
              " 'feat_airport friendly_cat',\n",
              " 'feat_eye size:_cat',\n",
              " 'feat_combined shipping_cat',\n",
              " 'feat_assembled product dimensions (l x w x h)_cat',\n",
              " 'feat_light weight_cat',\n",
              " 'feat_inseam_cat',\n",
              " 'feat_cleaning, care & maintenance_cat',\n",
              " 'feat_terrain_cat',\n",
              " 'feat_sole_cat',\n",
              " 'feat_dial material_cat',\n",
              " 'feat_fit:_cat',\n",
              " 'feat_age gender group_cat',\n",
              " 'feat_waist_cat',\n",
              " 'feat_general warranty_cat',\n",
              " 'feat_origin of components_cat',\n",
              " 'feat_country of origin - components_cat',\n",
              " 'feat_chain/necklace length (in.)_cat',\n",
              " 'feat_has adaptive lenses_cat',\n",
              " 'feat_color/finish family_cat',\n",
              " 'feat_polarised_cat',\n",
              " 'feat_chest size_cat',\n",
              " 'feat_fits models_cat',\n",
              " 'feat_digital camera_cat',\n",
              " 'feat_adjustable_cat',\n",
              " 'feat_parts_cat',\n",
              " 'feat_band width_cat',\n",
              " 'feat_leather :_cat',\n",
              " 'feat_place of origin_cat',\n",
              " 'feat_front_cat',\n",
              " 'feat_primary shelf id_cat',\n",
              " 'feat_smart watch_cat',\n",
              " 'feat_instrument_cat',\n",
              " 'feat_recommended use_cat',\n",
              " 'feat_wheeled_cat',\n",
              " 'feat_hammer loop_cat',\n",
              " 'feat_product in inches (l x w x h)_cat',\n",
              " 'feat_includes_cat',\n",
              " 'feat_polarized?_cat',\n",
              " 'feat_dial color_cat',\n",
              " 'feat_rise_cat',\n",
              " 'feat_clothing size_cat',\n",
              " 'feat_model number_cat',\n",
              " 'feat_frame shape_cat',\n",
              " 'feat_number of pockets_cat',\n",
              " 'feat_style name_cat',\n",
              " 'feat_color family_cat',\n",
              " 'feat_licensed_cat',\n",
              " 'feat_release_cat',\n",
              " 'feat_pant style_cat',\n",
              " 'feat_fabric_cat',\n",
              " 'feat_autographed_cat',\n",
              " 'feat_stability_cat',\n",
              " 'feat_chain included_cat',\n",
              " 'feat_weather-resistant_cat',\n",
              " 'feat_is recyclable_cat',\n",
              " 'feat_lens_cat',\n",
              " 'feat_ring style_cat',\n",
              " 'feat_shoe width_cat',\n",
              " 'feat_fabric material_cat',\n",
              " 'feat_type_cat',\n",
              " 'feat_lens width_cat',\n",
              " 'feat_seller inventory number_cat',\n",
              " 'feat_battery voltage_cat',\n",
              " 'feat_batteries included?_cat',\n",
              " 'feat_ground_cat']"
            ]
          },
          "metadata": {
            "tags": []
          },
          "execution_count": 74
        }
      ]
    },
    {
      "cell_type": "code",
      "metadata": {
        "id": "Z6yMxBFJTleg",
        "colab_type": "code",
        "colab": {}
      },
      "source": [
        "feats = ['brand_cat', 'feat_metal type_cat','feat_brand_cat', 'feat_shape_cat' ,'feat_gender_cat',  'feat_material_cat', 'feat_sport_cat', 'feat_style_cat']\n",
        "model = RandomForestRegressor(max_depth=5, n_estimators=100)\n",
        "result = run_model(feats,model)"
      ],
      "execution_count": 0,
      "outputs": []
    },
    {
      "cell_type": "code",
      "metadata": {
        "id": "j96FJQOcVR31",
        "colab_type": "code",
        "colab": {
          "base_uri": "https://localhost:8080/",
          "height": 184
        },
        "outputId": "9dd6976a-b5af-4deb-9eb5-c342b9a6f6fa"
      },
      "source": [
        "X = df[feats].values\n",
        "y  = df['prices_amountmin'].values\n",
        "\n",
        "m = RandomForestRegressor(max_depth=5, n_estimators=100, random_state=0)\n",
        "m.fit(X, y)\n",
        "\n",
        "print(result)\n",
        "perm = PermutationImportance(m, random_state=1).fit(X,y);\n",
        "eli5.show_weights(perm, feature_names = feats)"
      ],
      "execution_count": 76,
      "outputs": [
        {
          "output_type": "stream",
          "text": [
            "(-57.28155559471959, 4.181600524423073)\n"
          ],
          "name": "stdout"
        },
        {
          "output_type": "execute_result",
          "data": {
            "text/html": [
              "\n",
              "    <style>\n",
              "    table.eli5-weights tr:hover {\n",
              "        filter: brightness(85%);\n",
              "    }\n",
              "</style>\n",
              "\n",
              "\n",
              "\n",
              "    \n",
              "\n",
              "    \n",
              "\n",
              "    \n",
              "\n",
              "    \n",
              "\n",
              "    \n",
              "\n",
              "    \n",
              "\n",
              "\n",
              "    \n",
              "\n",
              "    \n",
              "\n",
              "    \n",
              "\n",
              "    \n",
              "\n",
              "    \n",
              "\n",
              "    \n",
              "\n",
              "\n",
              "    \n",
              "\n",
              "    \n",
              "\n",
              "    \n",
              "\n",
              "    \n",
              "\n",
              "    \n",
              "        <table class=\"eli5-weights eli5-feature-importances\" style=\"border-collapse: collapse; border: none; margin-top: 0em; table-layout: auto;\">\n",
              "    <thead>\n",
              "    <tr style=\"border: none;\">\n",
              "        <th style=\"padding: 0 1em 0 0.5em; text-align: right; border: none;\">Weight</th>\n",
              "        <th style=\"padding: 0 0.5em 0 0.5em; text-align: left; border: none;\">Feature</th>\n",
              "    </tr>\n",
              "    </thead>\n",
              "    <tbody>\n",
              "    \n",
              "        <tr style=\"background-color: hsl(120, 100.00%, 80.00%); border: none;\">\n",
              "            <td style=\"padding: 0 1em 0 0.5em; text-align: right; border: none;\">\n",
              "                0.2576\n",
              "                \n",
              "                    &plusmn; 0.0077\n",
              "                \n",
              "            </td>\n",
              "            <td style=\"padding: 0 0.5em 0 0.5em; text-align: left; border: none;\">\n",
              "                brand_cat\n",
              "            </td>\n",
              "        </tr>\n",
              "    \n",
              "        <tr style=\"background-color: hsl(120, 100.00%, 89.47%); border: none;\">\n",
              "            <td style=\"padding: 0 1em 0 0.5em; text-align: right; border: none;\">\n",
              "                0.1031\n",
              "                \n",
              "                    &plusmn; 0.0075\n",
              "                \n",
              "            </td>\n",
              "            <td style=\"padding: 0 0.5em 0 0.5em; text-align: left; border: none;\">\n",
              "                feat_material_cat\n",
              "            </td>\n",
              "        </tr>\n",
              "    \n",
              "        <tr style=\"background-color: hsl(120, 100.00%, 96.16%); border: none;\">\n",
              "            <td style=\"padding: 0 1em 0 0.5em; text-align: right; border: none;\">\n",
              "                0.0244\n",
              "                \n",
              "                    &plusmn; 0.0024\n",
              "                \n",
              "            </td>\n",
              "            <td style=\"padding: 0 0.5em 0 0.5em; text-align: left; border: none;\">\n",
              "                feat_gender_cat\n",
              "            </td>\n",
              "        </tr>\n",
              "    \n",
              "        <tr style=\"background-color: hsl(120, 100.00%, 96.87%); border: none;\">\n",
              "            <td style=\"padding: 0 1em 0 0.5em; text-align: right; border: none;\">\n",
              "                0.0182\n",
              "                \n",
              "                    &plusmn; 0.0023\n",
              "                \n",
              "            </td>\n",
              "            <td style=\"padding: 0 0.5em 0 0.5em; text-align: left; border: none;\">\n",
              "                feat_brand_cat\n",
              "            </td>\n",
              "        </tr>\n",
              "    \n",
              "        <tr style=\"background-color: hsl(120, 100.00%, 97.58%); border: none;\">\n",
              "            <td style=\"padding: 0 1em 0 0.5em; text-align: right; border: none;\">\n",
              "                0.0126\n",
              "                \n",
              "                    &plusmn; 0.0007\n",
              "                \n",
              "            </td>\n",
              "            <td style=\"padding: 0 0.5em 0 0.5em; text-align: left; border: none;\">\n",
              "                feat_shape_cat\n",
              "            </td>\n",
              "        </tr>\n",
              "    \n",
              "        <tr style=\"background-color: hsl(120, 100.00%, 98.05%); border: none;\">\n",
              "            <td style=\"padding: 0 1em 0 0.5em; text-align: right; border: none;\">\n",
              "                0.0093\n",
              "                \n",
              "                    &plusmn; 0.0015\n",
              "                \n",
              "            </td>\n",
              "            <td style=\"padding: 0 0.5em 0 0.5em; text-align: left; border: none;\">\n",
              "                feat_metal type_cat\n",
              "            </td>\n",
              "        </tr>\n",
              "    \n",
              "        <tr style=\"background-color: hsl(120, 100.00%, 99.09%); border: none;\">\n",
              "            <td style=\"padding: 0 1em 0 0.5em; text-align: right; border: none;\">\n",
              "                0.0031\n",
              "                \n",
              "                    &plusmn; 0.0004\n",
              "                \n",
              "            </td>\n",
              "            <td style=\"padding: 0 0.5em 0 0.5em; text-align: left; border: none;\">\n",
              "                feat_style_cat\n",
              "            </td>\n",
              "        </tr>\n",
              "    \n",
              "        <tr style=\"background-color: hsl(120, 100.00%, 99.88%); border: none;\">\n",
              "            <td style=\"padding: 0 1em 0 0.5em; text-align: right; border: none;\">\n",
              "                0.0002\n",
              "                \n",
              "                    &plusmn; 0.0000\n",
              "                \n",
              "            </td>\n",
              "            <td style=\"padding: 0 0.5em 0 0.5em; text-align: left; border: none;\">\n",
              "                feat_sport_cat\n",
              "            </td>\n",
              "        </tr>\n",
              "    \n",
              "    \n",
              "    </tbody>\n",
              "</table>\n",
              "    \n",
              "\n",
              "    \n",
              "\n",
              "\n",
              "    \n",
              "\n",
              "    \n",
              "\n",
              "    \n",
              "\n",
              "    \n",
              "\n",
              "    \n",
              "\n",
              "    \n",
              "\n",
              "\n",
              "\n"
            ],
            "text/plain": [
              "<IPython.core.display.HTML object>"
            ]
          },
          "metadata": {
            "tags": []
          },
          "execution_count": 76
        }
      ]
    },
    {
      "cell_type": "code",
      "metadata": {
        "id": "GCt6Xda4XgqJ",
        "colab_type": "code",
        "colab": {
          "base_uri": "https://localhost:8080/",
          "height": 230
        },
        "outputId": "28b81376-0e70-48dc-b951-75a3af390ded"
      },
      "source": [
        "df['brand'].value_counts(normalize = True)"
      ],
      "execution_count": 77,
      "outputs": [
        {
          "output_type": "execute_result",
          "data": {
            "text/plain": [
              "nike                       0.097210\n",
              "puma                       0.033315\n",
              "ralph lauren               0.028775\n",
              "vans                       0.021116\n",
              "new balance                0.020295\n",
              "                             ...   \n",
              "king will                  0.000055\n",
              "airwalk                    0.000055\n",
              "w.k                        0.000055\n",
              "rcs                        0.000055\n",
              "u.s. polo assn. classic    0.000055\n",
              "Name: brand, Length: 1732, dtype: float64"
            ]
          },
          "metadata": {
            "tags": []
          },
          "execution_count": 77
        }
      ]
    },
    {
      "cell_type": "code",
      "metadata": {
        "id": "0ZvYrjj_XuBT",
        "colab_type": "code",
        "colab": {
          "base_uri": "https://localhost:8080/",
          "height": 301
        },
        "outputId": "461366d6-41c2-4da2-c48b-fe18beef68b5"
      },
      "source": [
        "df['weight'].unique()"
      ],
      "execution_count": 78,
      "outputs": [
        {
          "output_type": "execute_result",
          "data": {
            "text/plain": [
              "array([nan, '3.0 lbs', '9 g', '1.45 lbs', '0.45 lbs', '1.0 lbs',\n",
              "       '0.23 lbs', '5.0 lbs', '5.5 lbs', '7.45 lbs', '4.0 lbs',\n",
              "       '2.7969 lbs', '3.9 lbs', '4.6 pounds', '2.1 lbs', '1.1057 lbs',\n",
              "       '15.0 lbs', '2.4 ounces', '454 g', '0.105 lbs', '9.1 ounces',\n",
              "       '4.8 lbs', '6.1 lbs', '6.5 lbs', '1.1041 lbs', '1.3 Kg', '91 g',\n",
              "       '20.0 lbs', '6.0 lbs', '386 g', '0.81 lbs', '4.5 lbs',\n",
              "       '0.5 ounces', '2.0 lbs', '3.13 lbs', '5.9 lbs', '6.15 lbs',\n",
              "       '1 pounds', '1.95 lbs', '2.15 lbs', '2 pounds', '2.1 pounds',\n",
              "       '14 Kg', '0.4788 lbs', '10.0 lbs', '0.38 lbs', '2.5 lbs',\n",
              "       '68.912 lbs', '45 g', '13.09 lbs', '2.5 pounds', '0.21 lbs',\n",
              "       '16.75 lbs', '6.3 lbs', '272 g', '1.8 Kg', '2.8 pounds', '0.1 lbs',\n",
              "       '5.05 lbs', '0.28 lbs', '76.08 lbs', '0.15 lbs', '200 g',\n",
              "       '7.8 pounds', '399 g', '4.95 lbs', '64.144 lbs', '24 pounds',\n",
              "       '73.696 lbs', '1.6 lbs', '6.6 ounces', '5 g', '1.2 Kg', '862 g',\n",
              "       '3.05 lb', '8.6 ounces', '3.6 lbs', '71.296 lbs', '5.2 pounds',\n",
              "       '3.44 lbs', '0.3 ounces', '1.4 Kg'], dtype=object)"
            ]
          },
          "metadata": {
            "tags": []
          },
          "execution_count": 78
        }
      ]
    }
  ]
}